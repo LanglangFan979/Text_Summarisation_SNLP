{
 "cells": [
  {
   "cell_type": "code",
   "execution_count": 4,
   "id": "a6c01d86",
   "metadata": {},
   "outputs": [
    {
     "name": "stdout",
     "output_type": "stream",
     "text": [
      "\u001b[31mERROR: Invalid requirement: 'rouge/requirements.txt'\n",
      "Hint: It looks like a path. File 'rouge/requirements.txt' does not exist.\u001b[0m\n",
      "Requirement already satisfied: rouge-score in /opt/anaconda3/lib/python3.8/site-packages (0.0.4)\n",
      "Requirement already satisfied: six>=1.14.0 in /opt/anaconda3/lib/python3.8/site-packages (from rouge-score) (1.16.0)\n",
      "Requirement already satisfied: nltk in /opt/anaconda3/lib/python3.8/site-packages (from rouge-score) (3.6.5)\n",
      "Requirement already satisfied: absl-py in /opt/anaconda3/lib/python3.8/site-packages (from rouge-score) (1.0.0)\n",
      "Requirement already satisfied: numpy in /opt/anaconda3/lib/python3.8/site-packages (from rouge-score) (1.21.2)\n",
      "Requirement already satisfied: click in /opt/anaconda3/lib/python3.8/site-packages (from nltk->rouge-score) (8.0.3)\n",
      "Requirement already satisfied: joblib in /opt/anaconda3/lib/python3.8/site-packages (from nltk->rouge-score) (1.1.0)\n",
      "Requirement already satisfied: regex>=2021.8.3 in /opt/anaconda3/lib/python3.8/site-packages (from nltk->rouge-score) (2021.11.2)\n",
      "Requirement already satisfied: tqdm in /opt/anaconda3/lib/python3.8/site-packages (from nltk->rouge-score) (4.62.3)\n"
     ]
    }
   ],
   "source": [
    "!pip install rouge/requirements.txt\n",
    "!pip install rouge-score"
   ]
  },
  {
   "cell_type": "code",
   "execution_count": 2,
   "id": "45c429d9",
   "metadata": {},
   "outputs": [
    {
     "name": "stdout",
     "output_type": "stream",
     "text": [
      "Requirement already satisfied: scikit-learn in /opt/anaconda3/lib/python3.8/site-packages (1.0.2)\n",
      "Requirement already satisfied: scipy>=1.1.0 in /opt/anaconda3/lib/python3.8/site-packages (from scikit-learn) (1.7.3)\n",
      "Requirement already satisfied: threadpoolctl>=2.0.0 in /opt/anaconda3/lib/python3.8/site-packages (from scikit-learn) (2.2.0)\n",
      "Requirement already satisfied: numpy>=1.14.6 in /opt/anaconda3/lib/python3.8/site-packages (from scikit-learn) (1.21.2)\n",
      "Requirement already satisfied: joblib>=0.11 in /opt/anaconda3/lib/python3.8/site-packages (from scikit-learn) (1.1.0)\n"
     ]
    }
   ],
   "source": [
    "!pip install scikit-learn"
   ]
  },
  {
   "cell_type": "code",
   "execution_count": 5,
   "id": "780cd16b",
   "metadata": {},
   "outputs": [],
   "source": [
    "import pandas as pd\n",
    "import numpy as np\n",
    "import math\n",
    "from rouge_score import rouge_scorer\n",
    "from matplotlib import pyplot as plt\n",
    "from sklearn.linear_model import LinearRegression\n",
    "from scipy import stats"
   ]
  },
  {
   "cell_type": "code",
   "execution_count": 19,
   "id": "bb973698",
   "metadata": {},
   "outputs": [],
   "source": [
    "WikiHow_sample_leq512 = pd.read_csv('WikiHow_sample_leq512_withsummary.csv')\n",
    "WikiHow_sample_in1024 = pd.read_csv('WikiHow_sample_in1024_withsummary.csv')"
   ]
  },
  {
   "cell_type": "code",
   "execution_count": 36,
   "id": "bfb6c871",
   "metadata": {},
   "outputs": [],
   "source": [
    "WikiHow_sample_in1024 = pd.read_csv('WikiHow_sample_in1024_withsummary.csv')"
   ]
  },
  {
   "cell_type": "code",
   "execution_count": null,
   "id": "6a4ff249",
   "metadata": {},
   "outputs": [],
   "source": [
    "i = 0\n",
    "df_cropped = WikiHow_sample_leq512.loc[0:36200,:]\n",
    "scorer = rouge_scorer.RougeScorer(['rouge1', 'rouge2', 'rougeL', 'rougeLsum'], use_stemmer=True)\n",
    "for headline, summary in zip(df_cropped['headline'],df_cropped['summary']):\n",
    "    scores = scorer.score(summary,headline)\n",
    "    WikiHow_sample_leq512.loc[i,'Rouge1'] = scores['rouge1'].fmeasure\n",
    "    WikiHow_sample_leq512.loc[i,'Rouge2'] = scores['rouge2'].fmeasure\n",
    "    WikiHow_sample_leq512.loc[i,'RougeL'] = scores['rougeL'].fmeasure\n",
    "    WikiHow_sample_leq512.loc[i,'RougeLsum'] = scores['rougeLsum'].fmeasure\n",
    "    i += 1"
   ]
  },
  {
   "cell_type": "code",
   "execution_count": null,
   "id": "29da5c33",
   "metadata": {},
   "outputs": [],
   "source": [
    "df_cropped_scored = WikiHow_sample_leq512.loc[0:36200,:]\n",
    "df_cropped_scored['text_length'].corr(df_cropped_scored['Rouge1'])\n",
    "corr_table = {'Rouge1': [df_cropped_scored['text_length'].corr(df_cropped_scored['Rouge1'])], \n",
    "        'Rouge2': [df_cropped_scored['text_length'].corr(df_cropped_scored['Rouge2'])], \n",
    "        'RougeL': [df_cropped_scored['text_length'].corr(df_cropped_scored['RougeL'])],\n",
    "        'RougeLsum': [df_cropped_scored['text_length'].corr(df_cropped_scored['RougeLsum'])]} \n",
    "correlation = pd.DataFrame(corr_table, index=['text_length'])"
   ]
  },
  {
   "cell_type": "code",
   "execution_count": 10,
   "id": "1ebeac26",
   "metadata": {},
   "outputs": [
    {
     "data": {
      "text/html": [
       "<div>\n",
       "<style scoped>\n",
       "    .dataframe tbody tr th:only-of-type {\n",
       "        vertical-align: middle;\n",
       "    }\n",
       "\n",
       "    .dataframe tbody tr th {\n",
       "        vertical-align: top;\n",
       "    }\n",
       "\n",
       "    .dataframe thead th {\n",
       "        text-align: right;\n",
       "    }\n",
       "</style>\n",
       "<table border=\"1\" class=\"dataframe\">\n",
       "  <thead>\n",
       "    <tr style=\"text-align: right;\">\n",
       "      <th></th>\n",
       "      <th>Rouge1</th>\n",
       "      <th>Rouge2</th>\n",
       "      <th>RougeL</th>\n",
       "      <th>RougeLsum</th>\n",
       "    </tr>\n",
       "  </thead>\n",
       "  <tbody>\n",
       "    <tr>\n",
       "      <th>text_length</th>\n",
       "      <td>0.208014</td>\n",
       "      <td>0.07995</td>\n",
       "      <td>0.134772</td>\n",
       "      <td>0.182112</td>\n",
       "    </tr>\n",
       "  </tbody>\n",
       "</table>\n",
       "</div>"
      ],
      "text/plain": [
       "               Rouge1   Rouge2    RougeL  RougeLsum\n",
       "text_length  0.208014  0.07995  0.134772   0.182112"
      ]
     },
     "execution_count": 10,
     "metadata": {},
     "output_type": "execute_result"
    }
   ],
   "source": [
    "correlation"
   ]
  },
  {
   "cell_type": "code",
   "execution_count": 13,
   "id": "cb983247",
   "metadata": {},
   "outputs": [
    {
     "data": {
      "text/plain": [
       "[<matplotlib.lines.Line2D at 0x1255df610>]"
      ]
     },
     "execution_count": 13,
     "metadata": {},
     "output_type": "execute_result"
    },
    {
     "data": {
      "image/png": "[encoded data removed]",
      "text/plain": [
       "<Figure size 432x288 with 1 Axes>"
      ]
     },
     "metadata": {
      "needs_background": "light"
     },
     "output_type": "display_data"
    }
   ],
   "source": [
    "plt.plot(WikiHow_sample_leq512['text_length'],WikiHow_sample_leq512['Rouge1'],'o')"
   ]
  },
  {
   "cell_type": "code",
   "execution_count": 37,
   "id": "ba3fccfe",
   "metadata": {},
   "outputs": [],
   "source": [
    "i = 0\n",
    "df_cropped = WikiHow_sample_in1024.loc[0:8942,:]\n",
    "scorer = rouge_scorer.RougeScorer(['rouge1', 'rouge2', 'rougeL', 'rougeLsum'], use_stemmer=True)\n",
    "for headline, summary in zip(df_cropped['headline'],df_cropped['summary']):\n",
    "    scores = scorer.score(summary,headline)\n",
    "    WikiHow_sample_in1024.loc[i,'Rouge1'] = scores['rouge1'].fmeasure\n",
    "    WikiHow_sample_in1024.loc[i,'Rouge2'] = scores['rouge2'].fmeasure\n",
    "    WikiHow_sample_in1024.loc[i,'RougeL'] = scores['rougeL'].fmeasure\n",
    "    WikiHow_sample_in1024.loc[i,'RougeLsum'] = scores['rougeLsum'].fmeasure\n",
    "    i += 1"
   ]
  },
  {
   "cell_type": "code",
   "execution_count": 38,
   "id": "6e02d397",
   "metadata": {},
   "outputs": [],
   "source": [
    "df_cropped_scored2 = WikiHow_sample_in1024.loc[0:8942,:]\n",
    "df_cropped_scored2['text_length'].corr(df_cropped_scored2['Rouge1'])\n",
    "corr_table2 = {'Rouge1': [df_cropped_scored2['text_length'].corr(df_cropped_scored2['Rouge1'])], \n",
    "        'Rouge2': [df_cropped_scored2['text_length'].corr(df_cropped_scored2['Rouge2'])], \n",
    "        'RougeL': [df_cropped_scored2['text_length'].corr(df_cropped_scored2['RougeL'])],\n",
    "        'RougeLsum': [df_cropped_scored2['text_length'].corr(df_cropped_scored2['RougeLsum'])]} \n",
    "correlation2 = pd.DataFrame(corr_table2, index=['text_length'])"
   ]
  },
  {
   "cell_type": "code",
   "execution_count": 39,
   "id": "d2e848f5",
   "metadata": {},
   "outputs": [
    {
     "data": {
      "text/html": [
       "<div>\n",
       "<style scoped>\n",
       "    .dataframe tbody tr th:only-of-type {\n",
       "        vertical-align: middle;\n",
       "    }\n",
       "\n",
       "    .dataframe tbody tr th {\n",
       "        vertical-align: top;\n",
       "    }\n",
       "\n",
       "    .dataframe thead th {\n",
       "        text-align: right;\n",
       "    }\n",
       "</style>\n",
       "<table border=\"1\" class=\"dataframe\">\n",
       "  <thead>\n",
       "    <tr style=\"text-align: right;\">\n",
       "      <th></th>\n",
       "      <th>Rouge1</th>\n",
       "      <th>Rouge2</th>\n",
       "      <th>RougeL</th>\n",
       "      <th>RougeLsum</th>\n",
       "    </tr>\n",
       "  </thead>\n",
       "  <tbody>\n",
       "    <tr>\n",
       "      <th>text_length</th>\n",
       "      <td>-0.036611</td>\n",
       "      <td>-0.040533</td>\n",
       "      <td>-0.089067</td>\n",
       "      <td>-0.037679</td>\n",
       "    </tr>\n",
       "  </tbody>\n",
       "</table>\n",
       "</div>"
      ],
      "text/plain": [
       "               Rouge1    Rouge2    RougeL  RougeLsum\n",
       "text_length -0.036611 -0.040533 -0.089067  -0.037679"
      ]
     },
     "execution_count": 39,
     "metadata": {},
     "output_type": "execute_result"
    }
   ],
   "source": [
    "correlation2"
   ]
  },
  {
   "cell_type": "code",
   "execution_count": 47,
   "id": "16247302",
   "metadata": {},
   "outputs": [
    {
     "data": {
      "text/plain": [
       "[<matplotlib.lines.Line2D at 0x12ad1d760>]"
      ]
     },
     "execution_count": 47,
     "metadata": {},
     "output_type": "execute_result"
    },
    {
     "data": {
      "image/png": "[encoded data removed]",
      "text/plain": [
       "<Figure size 432x288 with 1 Axes>"
      ]
     },
     "metadata": {
      "needs_background": "light"
     },
     "output_type": "display_data"
    }
   ],
   "source": [
    "plt.plot(WikiHow_sample_in1024['text_length'],WikiHow_sample_in1024['Rouge1'],'o')"
   ]
  },
  {
   "cell_type": "code",
   "execution_count": null,
   "id": "d5e339ac",
   "metadata": {},
   "outputs": [],
   "source": [
    "# WikiHow_sample_all = "
   ]
  },
  {
   "cell_type": "code",
   "execution_count": 7,
   "id": "5a9ab82f",
   "metadata": {},
   "outputs": [
    {
     "data": {
      "text/html": [
       "<div>\n",
       "<style scoped>\n",
       "    .dataframe tbody tr th:only-of-type {\n",
       "        vertical-align: middle;\n",
       "    }\n",
       "\n",
       "    .dataframe tbody tr th {\n",
       "        vertical-align: top;\n",
       "    }\n",
       "\n",
       "    .dataframe thead th {\n",
       "        text-align: right;\n",
       "    }\n",
       "</style>\n",
       "<table border=\"1\" class=\"dataframe\">\n",
       "  <thead>\n",
       "    <tr style=\"text-align: right;\">\n",
       "      <th></th>\n",
       "      <th>Unnamed: 0.3</th>\n",
       "      <th>Unnamed: 0.2</th>\n",
       "      <th>Unnamed: 0</th>\n",
       "      <th>Unnamed: 0.1</th>\n",
       "      <th>headline</th>\n",
       "      <th>title</th>\n",
       "      <th>text</th>\n",
       "      <th>text_length</th>\n",
       "      <th>summary</th>\n",
       "      <th>train_length</th>\n",
       "      <th>score</th>\n",
       "      <th>('Rouge1', 'Rouge2', 'RougeL', 'RougeLsum')</th>\n",
       "      <th>Rouge1</th>\n",
       "      <th>Rouge2</th>\n",
       "      <th>RougeL</th>\n",
       "      <th>RougeLsum</th>\n",
       "    </tr>\n",
       "  </thead>\n",
       "  <tbody>\n",
       "    <tr>\n",
       "      <th>0</th>\n",
       "      <td>0</td>\n",
       "      <td>0</td>\n",
       "      <td>0</td>\n",
       "      <td>0</td>\n",
       "      <td>\\nAvoid abrasive clothing-on-skin contact.,\\nR...</td>\n",
       "      <td>How to Care for Skin During Winter3</td>\n",
       "      <td>While it's always a good idea to cover up whe...</td>\n",
       "      <td>397</td>\n",
       "      <td>itching is a great way to cause infections by ...</td>\n",
       "      <td>392</td>\n",
       "      <td>&lt;rouge_score.rouge_scorer.RougeScorer object a...</td>\n",
       "      <td>empty</td>\n",
       "      <td>0.135593</td>\n",
       "      <td>0.00</td>\n",
       "      <td>0.101695</td>\n",
       "      <td>0.135593</td>\n",
       "    </tr>\n",
       "    <tr>\n",
       "      <th>1</th>\n",
       "      <td>1</td>\n",
       "      <td>1</td>\n",
       "      <td>1</td>\n",
       "      <td>1</td>\n",
       "      <td>\\nGo to Data tab and select From Other Sources...</td>\n",
       "      <td>How to Embed a SQL Query in Microsoft Excel</td>\n",
       "      <td>;\\n,, Select “ODBC DSN” from the available opt...</td>\n",
       "      <td>70</td>\n",
       "      <td>select the database and table as appropriate i...</td>\n",
       "      <td>64</td>\n",
       "      <td>&lt;rouge_score.rouge_scorer.RougeScorer object a...</td>\n",
       "      <td>empty</td>\n",
       "      <td>0.172840</td>\n",
       "      <td>0.10</td>\n",
       "      <td>0.160494</td>\n",
       "      <td>0.160494</td>\n",
       "    </tr>\n",
       "    <tr>\n",
       "      <th>2</th>\n",
       "      <td>2</td>\n",
       "      <td>2</td>\n",
       "      <td>2</td>\n",
       "      <td>2</td>\n",
       "      <td>\\nTease her.,\\nMake up ridiculous stories.,\\nE...</td>\n",
       "      <td>How to Reply to One Word Texts from Girls2</td>\n",
       "      <td>Since she is only sending you one word text m...</td>\n",
       "      <td>469</td>\n",
       "      <td>make sure you are appropriate with your teasin...</td>\n",
       "      <td>464</td>\n",
       "      <td>&lt;rouge_score.rouge_scorer.RougeScorer object a...</td>\n",
       "      <td>empty</td>\n",
       "      <td>0.244898</td>\n",
       "      <td>0.00</td>\n",
       "      <td>0.163265</td>\n",
       "      <td>0.163265</td>\n",
       "    </tr>\n",
       "    <tr>\n",
       "      <th>3</th>\n",
       "      <td>3</td>\n",
       "      <td>3</td>\n",
       "      <td>3</td>\n",
       "      <td>3</td>\n",
       "      <td>\\nLaunch the Microsoft Word mobile app.,\\nOpen...</td>\n",
       "      <td>How to Check a Word Count in Microsoft Word3</td>\n",
       "      <td>On your smartphone or tablet, tap on the Word...</td>\n",
       "      <td>218</td>\n",
       "      <td>the app will usually open the last document yo...</td>\n",
       "      <td>210</td>\n",
       "      <td>&lt;rouge_score.rouge_scorer.RougeScorer object a...</td>\n",
       "      <td>empty</td>\n",
       "      <td>0.423077</td>\n",
       "      <td>0.12</td>\n",
       "      <td>0.307692</td>\n",
       "      <td>0.346154</td>\n",
       "    </tr>\n",
       "    <tr>\n",
       "      <th>4</th>\n",
       "      <td>4</td>\n",
       "      <td>4</td>\n",
       "      <td>4</td>\n",
       "      <td>4</td>\n",
       "      <td>\\nWhen thinking of confronting someone(if you ...</td>\n",
       "      <td>How to Verbally Express Yourself Without Fear</td>\n",
       "      <td>know what you wish to achieve with this verba...</td>\n",
       "      <td>143</td>\n",
       "      <td>donna brazile: your intentions must be absolut...</td>\n",
       "      <td>141</td>\n",
       "      <td>&lt;rouge_score.rouge_scorer.RougeScorer object a...</td>\n",
       "      <td>empty</td>\n",
       "      <td>0.214765</td>\n",
       "      <td>0.00</td>\n",
       "      <td>0.107383</td>\n",
       "      <td>0.147651</td>\n",
       "    </tr>\n",
       "  </tbody>\n",
       "</table>\n",
       "</div>"
      ],
      "text/plain": [
       "   Unnamed: 0.3  Unnamed: 0.2  Unnamed: 0  Unnamed: 0.1  \\\n",
       "0             0             0           0             0   \n",
       "1             1             1           1             1   \n",
       "2             2             2           2             2   \n",
       "3             3             3           3             3   \n",
       "4             4             4           4             4   \n",
       "\n",
       "                                            headline  \\\n",
       "0  \\nAvoid abrasive clothing-on-skin contact.,\\nR...   \n",
       "1  \\nGo to Data tab and select From Other Sources...   \n",
       "2  \\nTease her.,\\nMake up ridiculous stories.,\\nE...   \n",
       "3  \\nLaunch the Microsoft Word mobile app.,\\nOpen...   \n",
       "4  \\nWhen thinking of confronting someone(if you ...   \n",
       "\n",
       "                                           title  \\\n",
       "0            How to Care for Skin During Winter3   \n",
       "1    How to Embed a SQL Query in Microsoft Excel   \n",
       "2     How to Reply to One Word Texts from Girls2   \n",
       "3   How to Check a Word Count in Microsoft Word3   \n",
       "4  How to Verbally Express Yourself Without Fear   \n",
       "\n",
       "                                                text  text_length  \\\n",
       "0   While it's always a good idea to cover up whe...          397   \n",
       "1  ;\\n,, Select “ODBC DSN” from the available opt...           70   \n",
       "2   Since she is only sending you one word text m...          469   \n",
       "3   On your smartphone or tablet, tap on the Word...          218   \n",
       "4   know what you wish to achieve with this verba...          143   \n",
       "\n",
       "                                             summary  train_length  \\\n",
       "0  itching is a great way to cause infections by ...           392   \n",
       "1  select the database and table as appropriate i...            64   \n",
       "2  make sure you are appropriate with your teasin...           464   \n",
       "3  the app will usually open the last document yo...           210   \n",
       "4  donna brazile: your intentions must be absolut...           141   \n",
       "\n",
       "                                               score  \\\n",
       "0  <rouge_score.rouge_scorer.RougeScorer object a...   \n",
       "1  <rouge_score.rouge_scorer.RougeScorer object a...   \n",
       "2  <rouge_score.rouge_scorer.RougeScorer object a...   \n",
       "3  <rouge_score.rouge_scorer.RougeScorer object a...   \n",
       "4  <rouge_score.rouge_scorer.RougeScorer object a...   \n",
       "\n",
       "  ('Rouge1', 'Rouge2', 'RougeL', 'RougeLsum')    Rouge1  Rouge2    RougeL  \\\n",
       "0                                       empty  0.135593    0.00  0.101695   \n",
       "1                                       empty  0.172840    0.10  0.160494   \n",
       "2                                       empty  0.244898    0.00  0.163265   \n",
       "3                                       empty  0.423077    0.12  0.307692   \n",
       "4                                       empty  0.214765    0.00  0.107383   \n",
       "\n",
       "   RougeLsum  \n",
       "0   0.135593  \n",
       "1   0.160494  \n",
       "2   0.163265  \n",
       "3   0.346154  \n",
       "4   0.147651  "
      ]
     },
     "execution_count": 7,
     "metadata": {},
     "output_type": "execute_result"
    }
   ],
   "source": [
    "WikiHow_sample_leq512.head()"
   ]
  },
  {
   "cell_type": "code",
   "execution_count": 32,
   "id": "f2f4c892",
   "metadata": {},
   "outputs": [],
   "source": [
    "# linear regression and anova table\n",
    "import statsmodels.api as sm\n",
    "from statsmodels.formula.api import ols"
   ]
  },
  {
   "cell_type": "code",
   "execution_count": 33,
   "id": "080de7d8",
   "metadata": {},
   "outputs": [],
   "source": [
    "model = ols('Rouge1 ~ C(text_length)', data=df_cropped_scored[['text_length', 'Rouge1']]).fit()\n",
    "anova_table = sm.stats.anova_lm(model, typ=2)\n",
    "anova_table"
   ]
  },
  {
   "cell_type": "code",
   "execution_count": 35,
   "id": "c940e3e3",
   "metadata": {},
   "outputs": [
    {
     "data": {
      "text/html": [
       "<div>\n",
       "<style scoped>\n",
       "    .dataframe tbody tr th:only-of-type {\n",
       "        vertical-align: middle;\n",
       "    }\n",
       "\n",
       "    .dataframe tbody tr th {\n",
       "        vertical-align: top;\n",
       "    }\n",
       "\n",
       "    .dataframe thead th {\n",
       "        text-align: right;\n",
       "    }\n",
       "</style>\n",
       "<table border=\"1\" class=\"dataframe\">\n",
       "  <thead>\n",
       "    <tr style=\"text-align: right;\">\n",
       "      <th></th>\n",
       "      <th>sum_sq</th>\n",
       "      <th>df</th>\n",
       "      <th>F</th>\n",
       "      <th>PR(&gt;F)</th>\n",
       "    </tr>\n",
       "  </thead>\n",
       "  <tbody>\n",
       "    <tr>\n",
       "      <th>C(text_length)</th>\n",
       "      <td>42.592242</td>\n",
       "      <td>480.0</td>\n",
       "      <td>10.224895</td>\n",
       "      <td>0.0</td>\n",
       "    </tr>\n",
       "    <tr>\n",
       "      <th>Residual</th>\n",
       "      <td>309.985856</td>\n",
       "      <td>35720.0</td>\n",
       "      <td>NaN</td>\n",
       "      <td>NaN</td>\n",
       "    </tr>\n",
       "  </tbody>\n",
       "</table>\n",
       "</div>"
      ],
      "text/plain": [
       "                    sum_sq       df          F  PR(>F)\n",
       "C(text_length)   42.592242    480.0  10.224895     0.0\n",
       "Residual        309.985856  35720.0        NaN     NaN"
      ]
     },
     "execution_count": 35,
     "metadata": {},
     "output_type": "execute_result"
    }
   ],
   "source": [
    "anova_table"
   ]
  },
  {
   "cell_type": "code",
   "execution_count": null,
   "id": "0d6a6849",
   "metadata": {},
   "outputs": [],
   "source": []
  }
 ],
 "metadata": {
  "kernelspec": {
   "display_name": "Python 3 (ipykernel)",
   "language": "python",
   "name": "python3"
  },
  "language_info": {
   "codemirror_mode": {
    "name": "ipython",
    "version": 3
   },
   "file_extension": ".py",
   "mimetype": "text/x-python",
   "name": "python",
   "nbconvert_exporter": "python",
   "pygments_lexer": "ipython3",
   "version": "3.8.12"
  }
 },
 "nbformat": 4,
 "nbformat_minor": 5
}
